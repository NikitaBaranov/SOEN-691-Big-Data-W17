{
 "cells": [
  {
   "cell_type": "code",
   "execution_count": 1,
   "metadata": {
    "collapsed": true
   },
   "outputs": [],
   "source": [
    "# Preprocessing functions"
   ]
  },
  {
   "cell_type": "code",
   "execution_count": 1,
   "metadata": {
    "collapsed": true
   },
   "outputs": [],
   "source": [
    "import pandas as pd\n",
    "import numpy as np\n",
    "\n",
    "import sys\n",
    "reload(sys)\n",
    "sys.setdefaultencoding('utf-8')"
   ]
  },
  {
   "cell_type": "code",
   "execution_count": 2,
   "metadata": {
    "collapsed": true
   },
   "outputs": [],
   "source": [
    "# Function to read First N lines fith column names\n",
    "def read_first_lines (folder, file_names):\n",
    "    for file_name in file_names:\n",
    "        df = pd.read_csv(folder+file_name,delimiter=\"\\t\", encoding=\"utf-8\",nrows=100)\n",
    "        new_file_name = file_name.split(\".\")[0]+\"_first_lines.csv\"\n",
    "        df.to_csv(folder+new_file_name,index=False)\n",
    "files_to_proceed = [\"pays.txt\",\"uc_kep_obs.txt\",\"uc_kep_pays.txt\"]\n",
    "\n",
    "#read_first_lines (\"uc_kep_obs/\",files_to_proceed)"
   ]
  },
  {
   "cell_type": "code",
   "execution_count": 6,
   "metadata": {
    "collapsed": false
   },
   "outputs": [],
   "source": [
    "# Function to read First N lines fith column names\n",
    "files_to_proceed = [\"pays.txt\",\"uc_kep_obs.txt\",\"uc_kep_pays.txt\"]\n",
    "\n",
    "columns_df = pd.DataFrame()\n",
    "column_element_pairs = [[],[]]\n",
    "\n",
    "def uniq_columns_values (folder, file_names):\n",
    "    \n",
    "    for file_name in file_names:\n",
    "        df = pd.read_csv(folder+file_name,delimiter=\"\\t\", encoding=\"utf-8\",nrows=10)\n",
    "        for colunm in df.columns:\n",
    "            for element in df[colunm].unique():\n",
    "                column_element_pairs.append([[colunm],[element]])#\"{}:{}\".format(colunm,element))\n",
    "        new_file_name = file_name.split(\".\")[0]+\"_columns_uniq.csv\"\n",
    "        pd.DataFrame(column_element_pairs).to_csv(folder+new_file_name,index=False, encoding=\"utf-8\")\n",
    "\n",
    "#uniq_columns_values (\"uc_kep_obs/\",files_to_proceed)"
   ]
  },
  {
   "cell_type": "code",
   "execution_count": 4,
   "metadata": {
    "collapsed": true
   },
   "outputs": [],
   "source": [
    "df = pd.read_csv(\"uc_kep_obs/pays.txt\",delimiter=\"\\t\", encoding=\"utf-8\")"
   ]
  },
  {
   "cell_type": "code",
   "execution_count": 5,
   "metadata": {
    "collapsed": false
   },
   "outputs": [
    {
     "data": {
      "text/plain": [
       "id_org             1672022\n",
       "region_client      1672022\n",
       "id_number          1672022\n",
       "vcuID              1672022\n",
       "region_sc          1672022\n",
       "product_name       1672022\n",
       "product            1672022\n",
       "tarif_name         1672022\n",
       "price_item_name    1672022\n",
       "price_set_name     1672022\n",
       "month_length       1150799\n",
       "BDate              1672022\n",
       "PayDate            1672022\n",
       "cost               1672022\n",
       "tip                1672022\n",
       "BaseCost           1667993\n",
       "is_first           1672022\n",
       "Cnt                1672022\n",
       "amount             1672022\n",
       "dtype: int64"
      ]
     },
     "execution_count": 5,
     "metadata": {},
     "output_type": "execute_result"
    }
   ],
   "source": [
    "df.count()"
   ]
  },
  {
   "cell_type": "code",
   "execution_count": null,
   "metadata": {
    "collapsed": true
   },
   "outputs": [],
   "source": []
  }
 ],
 "metadata": {
  "kernelspec": {
   "display_name": "Python 2",
   "language": "python",
   "name": "python2"
  },
  "language_info": {
   "codemirror_mode": {
    "name": "ipython",
    "version": 2
   },
   "file_extension": ".py",
   "mimetype": "text/x-python",
   "name": "python",
   "nbconvert_exporter": "python",
   "pygments_lexer": "ipython2",
   "version": "2.7.13"
  }
 },
 "nbformat": 4,
 "nbformat_minor": 2
}
