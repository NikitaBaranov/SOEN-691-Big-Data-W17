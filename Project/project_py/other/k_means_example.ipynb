{
 "cells": [
  {
   "cell_type": "code",
   "execution_count": null,
   "metadata": {
    "collapsed": true
   },
   "outputs": [],
   "source": [
    "import numpy as np\n",
    " \n",
    "def cluster_points(X, mu):\n",
    "    clusters  = {}\n",
    "    for x in X:\n",
    "        bestmukey = min([(i[0], np.linalg.norm(x-mu[i[0]])) \\\n",
    "                    for i in enumerate(mu)], key=lambda t:t[1])[0]\n",
    "        try:\n",
    "            clusters[bestmukey].append(x)\n",
    "        except KeyError:\n",
    "            clusters[bestmukey] = [x]\n",
    "    return clusters\n",
    " \n",
    "def reevaluate_centers(mu, clusters):\n",
    "    newmu = []\n",
    "    keys = sorted(clusters.keys())\n",
    "    for k in keys:\n",
    "        newmu.append(np.mean(clusters[k], axis = 0))\n",
    "    return newmu\n",
    " \n",
    "def has_converged(mu, oldmu):\n",
    "    return (set([tuple(a) for a in mu]) == set([tuple(a) for a in oldmu])\n",
    " \n",
    "def find_centers(X, K):\n",
    "    # Initialize to K random centers\n",
    "    oldmu = random.sample(X, K)\n",
    "    mu = random.sample(X, K)\n",
    "    while not has_converged(mu, oldmu):\n",
    "        oldmu = mu\n",
    "        # Assign all points in X to clusters\n",
    "        clusters = cluster_points(X, mu)\n",
    "        # Reevaluate centers\n",
    "        mu = reevaluate_centers(oldmu, clusters)\n",
    "    return(mu, clusters)"
   ]
  },
  {
   "cell_type": "code",
   "execution_count": 13,
   "metadata": {
    "collapsed": true
   },
   "outputs": [],
   "source": [
    "%matplotlib inline\n",
    "import random\n",
    "import numpy as np\n",
    "import matplotlib.pyplot as plt\n",
    "\n",
    "class KMeans():\n",
    "    def __init__(self, K, X=None, N=0):\n",
    "        self.K = K\n",
    "        if X == None:\n",
    "            if N == 0:\n",
    "                raise Exception(\"If no data is provided, \\\n",
    "                                 a parameter N (number of points) is needed\")\n",
    "            else:\n",
    "                self.N = N\n",
    "                self.X = self._init_board_gauss(N, K)\n",
    "        else:\n",
    "            self.X = X\n",
    "            self.N = len(X)\n",
    "        self.mu = None\n",
    "        self.clusters = None\n",
    "        self.method = None\n",
    " \n",
    "    def _init_board_gauss(self, N, k):\n",
    "        n = float(N)/k\n",
    "        X = []\n",
    "        for i in range(k):\n",
    "            c = (random.uniform(-1,1), random.uniform(-1,1))\n",
    "            s = random.uniform(0.05,0.15)\n",
    "            x = []\n",
    "            while len(x) < n:\n",
    "                a,b = np.array([np.random.normal(c[0],s),np.random.normal(c[1],s)])\n",
    "                # Continue drawing points from the distribution in the range [-1,1]\n",
    "                if abs(a) and abs(b)<1:\n",
    "                    x.append([a,b])\n",
    "            X.extend(x)\n",
    "        X = np.array(X)[:N]\n",
    "        return X\n",
    " \n",
    "    def plot_board(self):\n",
    "        X = self.X\n",
    "        fig = plt.figure(figsize=(5,5))\n",
    "        plt.xlim(-1,1)\n",
    "        plt.ylim(-1,1)\n",
    "        if self.mu and self.clusters:\n",
    "            mu = self.mu\n",
    "            clus = self.clusters\n",
    "            K = self.K\n",
    "            for m, clu in clus.items():\n",
    "                cs = cm.spectral(1.*m/self.K)\n",
    "                plt.plot(mu[m][0], mu[m][1], 'o', marker='*', \\\n",
    "                         markersize=12, color=cs)\n",
    "                plt.plot(zip(*clus[m])[0], zip(*clus[m])[1], '.', \\\n",
    "                         markersize=8, color=cs, alpha=0.5)\n",
    "        else:\n",
    "            plt.plot(zip(*X)[0], zip(*X)[1], '.', alpha=0.5)\n",
    "        if self.method == '++':\n",
    "            tit = 'K-means++'\n",
    "        else:\n",
    "            tit = 'K-means with random initialization'\n",
    "        pars = 'N=%s, K=%s' % (str(self.N), str(self.K))\n",
    "        plt.title('\\n'.join([pars, tit]), fontsize=16)\n",
    "        plt.savefig('kpp_N%s_K%s.png' % (str(self.N), str(self.K)), \\\n",
    "                    bbox_inches='tight', dpi=200)\n",
    " \n",
    "    def _cluster_points(self):\n",
    "        mu = self.mu\n",
    "        clusters  = {}\n",
    "        for x in self.X:\n",
    "            bestmukey = min([(i[0], np.linalg.norm(x-mu[i[0]])) \\\n",
    "                             for i in enumerate(mu)], key=lambda t:t[1])[0]\n",
    "            try:\n",
    "                clusters[bestmukey].append(x)\n",
    "            except KeyError:\n",
    "                clusters[bestmukey] = [x]\n",
    "        self.clusters = clusters\n",
    " \n",
    "    def _reevaluate_centers(self):\n",
    "        clusters = self.clusters\n",
    "        newmu = []\n",
    "        keys = sorted(self.clusters.keys())\n",
    "        for k in keys:\n",
    "            newmu.append(np.mean(clusters[k], axis = 0))\n",
    "        self.mu = newmu\n",
    " \n",
    "    def _has_converged(self):\n",
    "        K = len(self.oldmu)\n",
    "        return(set([tuple(a) for a in self.mu]) == \\\n",
    "               set([tuple(a) for a in self.oldmu])\\\n",
    "               and len(set([tuple(a) for a in self.mu])) == K)\n",
    " \n",
    "    def find_centers(self, method='random'):\n",
    "        self.method = method\n",
    "        X = self.X\n",
    "        K = self.K\n",
    "        self.oldmu = random.sample(X, K)\n",
    "        if method != '++':\n",
    "            # Initialize to K random centers\n",
    "            self.mu = random.sample(X, K)\n",
    "        while not self._has_converged():\n",
    "            self.oldmu = self.mu\n",
    "            # Assign all points in X to clusters\n",
    "            self._cluster_points()\n",
    "            # Reevaluate centers\n",
    "            self._reevaluate_centers()"
   ]
  },
  {
   "cell_type": "code",
   "execution_count": 16,
   "metadata": {
    "collapsed": false
   },
   "outputs": [
    {
     "data": {
      "image/png": "[encoded data removed]",
      "text/plain": [
       "<matplotlib.figure.Figure at 0x11a030c10>"
      ]
     },
     "metadata": {},
     "output_type": "display_data"
    }
   ],
   "source": [
    "kmeans = KMeans(10, N=200)\n",
    "kmeans.find_centers()\n",
    "kmeans.plot_board()"
   ]
  },
  {
   "cell_type": "code",
   "execution_count": 18,
   "metadata": {
    "collapsed": false
   },
   "outputs": [],
   "source": [
    "class KPlusPlus(KMeans):\n",
    "    def _dist_from_centers(self):\n",
    "        cent = self.mu\n",
    "        X = self.X\n",
    "        D2 = np.array([min([np.linalg.norm(x-c)**2 for c in cent]) for x in X])\n",
    "        self.D2 = D2\n",
    " \n",
    "    def _choose_next_center(self):\n",
    "        self.probs = self.D2/self.D2.sum()\n",
    "        self.cumprobs = self.probs.cumsum()\n",
    "        r = random.random()\n",
    "        ind = np.where(self.cumprobs >= r)[0][0]\n",
    "        return(self.X[ind])\n",
    " \n",
    "    def init_centers(self):\n",
    "        self.mu = random.sample(self.X, 1)\n",
    "        while len(self.mu) < self.K:\n",
    "            self._dist_from_centers()\n",
    "            self.mu.append(self._choose_next_center())\n",
    " \n",
    "    def plot_init_centers(self):\n",
    "        X = self.X\n",
    "        fig = plt.figure(figsize=(5,5))\n",
    "        plt.xlim(-1,1)\n",
    "        plt.ylim(-1,1)\n",
    "        plt.plot(zip(*X)[0], zip(*X)[1], '.', alpha=0.5)\n",
    "        plt.plot(zip(*self.mu)[0], zip(*self.mu)[1], 'ro')\n",
    "        plt.savefig('kpp_init_N%s_K%s.png' % (str(self.N),str(self.K)), \\\n",
    "                    bbox_inches='tight', dpi=200)"
   ]
  },
  {
   "cell_type": "code",
   "execution_count": 23,
   "metadata": {
    "collapsed": false
   },
   "outputs": [
    {
     "data": {
      "image/png": "[encoded data removed]",
      "text/plain": [
       "<matplotlib.figure.Figure at 0x11a325750>"
      ]
     },
     "metadata": {},
     "output_type": "display_data"
    }
   ],
   "source": [
    "kplusplus = KPlusPlus(10, N=200)\n",
    "kplusplus.init_centers()\n",
    "kplusplus.plot_init_centers()"
   ]
  },
  {
   "cell_type": "code",
   "execution_count": null,
   "metadata": {
    "collapsed": true
   },
   "outputs": [],
   "source": []
  }
 ],
 "metadata": {
  "kernelspec": {
   "display_name": "Python 2",
   "language": "python",
   "name": "python2"
  },
  "language_info": {
   "codemirror_mode": {
    "name": "ipython",
    "version": 2
   },
   "file_extension": ".py",
   "mimetype": "text/x-python",
   "name": "python",
   "nbconvert_exporter": "python",
   "pygments_lexer": "ipython2",
   "version": "2.7.13"
  }
 },
 "nbformat": 4,
 "nbformat_minor": 2
}
