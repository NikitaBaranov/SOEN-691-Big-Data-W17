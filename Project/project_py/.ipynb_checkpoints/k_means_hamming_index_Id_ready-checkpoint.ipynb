{
 "cells": [
  {
   "cell_type": "markdown",
   "metadata": {},
   "source": [
    "# Algoritm"
   ]
  },
  {
   "cell_type": "code",
   "execution_count": 64,
   "metadata": {
    "collapsed": false
   },
   "outputs": [],
   "source": [
    "# Initiate environment\n",
    "\n",
    "%matplotlib inline\n",
    "\n",
    "import pandas as pd\n",
    "#import DataFrame as df\n",
    "\n",
    "import random\n",
    "import numpy as np\n",
    "import matplotlib.pyplot as plt\n",
    "from matplotlib import cm\n",
    "\n",
    "import sys\n",
    "reload(sys)\n",
    "sys.setdefaultencoding('utf-8')\n",
    "\n",
    "%matplotlib inline"
   ]
  },
  {
   "cell_type": "code",
   "execution_count": 65,
   "metadata": {
    "collapsed": true
   },
   "outputs": [],
   "source": [
    "# Constants\n",
    "\n",
    "# Number of clusters\n",
    "number_of_clusteroids = 10\n",
    "\n",
    "year_slice = 2016\n",
    "\n",
    "num_of_rows = 200\n",
    "\n",
    "# Columns to compare\n",
    "columns_to_count_distance=[\n",
    "    \"region_client\",\n",
    "    \"region_sc\",\n",
    "    \"product_name\",\n",
    "    \"product\",\n",
    "    \"tarif_name\",\n",
    "    \"price_item_name\",\n",
    "    \"price_set_name\",\n",
    "    \"month_length\",\n",
    "    \"is_first\",\n",
    "    \"Cnt\",\n",
    "]\n",
    "\n",
    "# Clusteroid ID field\n",
    "clusteroid_id_field = \"id_org\"\n",
    "cluster_field = \"Cluster\"\n",
    "cluster_distance_to_clusteroid_field = \"Cluster_distance\"\n"
   ]
  },
  {
   "cell_type": "code",
   "execution_count": 66,
   "metadata": {
    "collapsed": false
   },
   "outputs": [],
   "source": [
    "# Read the Data\n",
    "\n",
    "# Todo, slice years\n",
    "\n",
    "dateparser = lambda x: pd.datetime.strptime(x, '%Y-%m-%d')\n",
    "\n",
    "df_data = pd.read_csv(\"uc_kep_obs/pays.txt\",\n",
    "                 delimiter=\"\\t\", \n",
    "                 encoding=\"utf-8\",\n",
    "                 nrows=num_of_rows, \n",
    "                 parse_dates=[11,12], \n",
    "                 infer_datetime_format = True,\n",
    "                 date_parser=dateparser\n",
    "                )\n",
    "# df\n",
    "df_data = df_data[df_data['BDate'].dt.year == year_slice]"
   ]
  },
  {
   "cell_type": "code",
   "execution_count": 67,
   "metadata": {
    "collapsed": false
   },
   "outputs": [],
   "source": [
    "# Add colunm for Cluster number\n",
    "\n",
    "# it is not working\n",
    "#cols_dtype={cluster_field : str,\n",
    "#            cluster_distance_to_clusteroid_field : np.int}\n",
    "\n",
    "#df_clusters_info = pd.DataFrame(dtype=cols_dtype)\n",
    "\n",
    "\n",
    "df_data[cluster_field] = \"0\"\n",
    "#D19CA103-3DFE-411C-B52A-32C12E6FDB4F\"\n",
    "df_data[cluster_distance_to_clusteroid_field] = np.nan"
   ]
  },
  {
   "cell_type": "code",
   "execution_count": 68,
   "metadata": {
    "collapsed": false
   },
   "outputs": [],
   "source": [
    "%matplotlib inline"
   ]
  },
  {
   "cell_type": "code",
   "execution_count": 69,
   "metadata": {
    "collapsed": false
   },
   "outputs": [
    {
     "data": {
      "text/plain": [
       "array([ 18,  52,  38, 149, 167, 158, 116, 154,  53, 183])"
      ]
     },
     "execution_count": 69,
     "metadata": {},
     "output_type": "execute_result"
    }
   ],
   "source": [
    "# N random clusteroids\n",
    "\n",
    "clusteroids = df_data.sample(number_of_clusteroids)[clusteroid_id_field].index.values\n",
    "\n",
    "clusteroids"
   ]
  },
  {
   "cell_type": "code",
   "execution_count": 70,
   "metadata": {
    "collapsed": false
   },
   "outputs": [],
   "source": [
    "#df_data"
   ]
  },
  {
   "cell_type": "code",
   "execution_count": 71,
   "metadata": {
    "collapsed": false
   },
   "outputs": [],
   "source": [
    "log_value =[]\n",
    "\n",
    "for point in df_data.index: # Iterete through data to clusterise\n",
    "    for clusteroid in clusteroids: # iterate throught clusters\n",
    "        log_value.append(clusteroid)\n",
    "#log_value"
   ]
  },
  {
   "cell_type": "code",
   "execution_count": 72,
   "metadata": {
    "collapsed": false
   },
   "outputs": [],
   "source": [
    "# Assign to clusters\n",
    "\n",
    "# Todo: Add converging, isChanged\n",
    "log_value =[]\n",
    "\n",
    "for point in df_data.index.values: # Iterete through data to clusterise\n",
    "    min_distance = len(columns_to_count_distance)\n",
    "    min_clusteroid = -1\n",
    "    for clusteroid in clusteroids: # iterate throught clusters\n",
    "        row1 = df_data.loc[point][columns_to_count_distance]\n",
    "        row2 = df_data.loc[clusteroid][columns_to_count_distance]\n",
    "        unique_columns = row1 == row2\n",
    "        lenght = len(columns_to_count_distance)\n",
    "        unique_columns_sum = unique_columns.sum()\n",
    "        distance = lenght - unique_columns_sum\n",
    "        if distance < min_distance:\n",
    "            min_distance = distance\n",
    "            min_clusteroid = clusteroid #df_data.loc[clusteroid][clusteroid_id_field].index.values\n",
    "            #log_value.append(\"new min distance {} clusteroid {}\".format(min_distance,min_clusteroid))\n",
    "    df_data.set_value(point,cluster_field,min_clusteroid)\n",
    "    df_data.set_value(point,cluster_distance_to_clusteroid_field,min_distance)\n",
    "    print (\"Point {} assignbed to {} with distance {}\".format(point, min_clusteroid, min_distance))\n",
    "\n",
    "#log_value"
   ]
  },
  {
   "cell_type": "code",
   "execution_count": 83,
   "metadata": {
    "collapsed": false
   },
   "outputs": [
    {
     "data": {
      "text/plain": [
       "array([149, 61, 158, 183, 167, 22, 27, 53, 116, 154], dtype=object)"
      ]
     },
     "execution_count": 83,
     "metadata": {},
     "output_type": "execute_result"
    }
   ],
   "source": [
    "df_data[cluster_field].unique()"
   ]
  },
  {
   "cell_type": "code",
   "execution_count": 75,
   "metadata": {
    "collapsed": false
   },
   "outputs": [],
   "source": [
    "#df_data"
   ]
  },
  {
   "cell_type": "code",
   "execution_count": 76,
   "metadata": {
    "collapsed": false,
    "scrolled": true
   },
   "outputs": [
    {
     "data": {
      "text/plain": [
       "array([ 18,  52,  38, 149, 167, 158, 116, 154,  53, 183])"
      ]
     },
     "execution_count": 76,
     "metadata": {},
     "output_type": "execute_result"
    }
   ],
   "source": [
    "clusteroids"
   ]
  },
  {
   "cell_type": "code",
   "execution_count": 52,
   "metadata": {
    "collapsed": false
   },
   "outputs": [],
   "source": [
    "# Recalculate clusteriods\n",
    "\n",
    "# Get old clusteroid, for each element in the cluster calculate sum of distances to all the other points in cluster. \n",
    "# Keep Min -> save as new clusteroid\n",
    "\n",
    "log_value =[]\n",
    "\n",
    "old_clusteroids = np.copy(clusteroids)\n",
    "print \"\"\n",
    "print \"---------\"\n",
    "print \"Old Clusters {}\".format(old_clusteroids)\n",
    "print \"Clusters {}\".format(clusteroids)\n",
    "\n",
    "old_clusteroids = np.copy(clusteroids)\n",
    "clusteroids = []\n",
    "\n",
    "for clusteroid in old_clusteroids: # Iterete through to clusteroids\n",
    "    min_distance = df_data[cluster_distance_to_clusteroid_field].sum()\n",
    "    min_clusteroid = clusteroid\n",
    "    print (\"Cluster {} with distance {}\".format(min_clusteroid, min_distance))\n",
    "    for element_i in df_data[df_data[cluster_field] == clusteroid].index.values: # iterate throught cluster\n",
    "        print (\"--Element_i {}\".format(element_i))\n",
    "        sum_distance = len(columns_to_count_distance)\n",
    "        sum_clusteroid = -1\n",
    "        for element_j in df_data[df_data[cluster_field] == clusteroid].index.values: # iterate throught cluster\n",
    "            #print (\"----Element_j {}\".format(element_j))\n",
    "            row1 = df_data.loc[element_i][columns_to_count_distance]\n",
    "            row2 = df_data.loc[element_j][columns_to_count_distance]\n",
    "            unique_columns = row1 == row2\n",
    "            lenght = len(columns_to_count_distance)\n",
    "            unique_columns_sum = unique_columns.sum()\n",
    "            distance = lenght - unique_columns_sum\n",
    "            sum_distance = sum_distance + distance\n",
    "            #print sum_distance\n",
    "        if sum_distance <= min_distance:\n",
    "            min_distance = sum_distance\n",
    "            min_clusteroid = element_i\n",
    "            #log_value.append(\"new clusteroid {} min summ distance {}\".format(element_i,sum_distance))\n",
    "            print (\"----New clusteroid {} min summ distance {}\".format(element_i,sum_distance))\n",
    "    #clusteroids.append(min_clusteroid)\n",
    "    if min_clusteroid != -1:\n",
    "        print (\"Clusteroid updated {} by {}\".format(clusteroid,min_clusteroid))\n",
    "        clusteroids.append(min_clusteroid)\n",
    "    else: \n",
    "        clusteroids.append(clusteroid)\n",
    "        #df_data = df_data[df_data['BDate'].dt.year == 2016]\n",
    "        #clusteroids = np.append(clusteroids, df_data[df_data[clusteroid_id_field] == min_clusteroid][\"id_org\"].index.values[0])\n",
    "        #print (\"Clusteroid {}\".format(clusteroid))\n",
    "        #print (\"element_i {} element_j {}\".format(element_i,element_j))\n",
    "\n",
    "#clusteroids = np.copy(old_clusteroids)\n",
    "print \"Old Clusters {}\".format(old_clusteroids)\n",
    "print \"Clusters {}\".format(clusteroids)\n",
    "print \"---------\"\n",
    "print \"\""
   ]
  },
  {
   "cell_type": "code",
   "execution_count": 86,
   "metadata": {
    "collapsed": true
   },
   "outputs": [],
   "source": [
    "# Recalculate clusteriods 2\n",
    "\n",
    "# Get old clusteroid, for each element in the cluster calculate sum of distances to all the other points in cluster. \n",
    "# Keep Min -> save as new clusteroid\n",
    "\n",
    "log_value =[]\n",
    "\n",
    "old_clusteroids = np.copy(clusteroids)\n",
    "print \"\"\n",
    "print \"---------\"\n",
    "#print \"Old Clusters {}\".format(old_clusteroids)\n",
    "print \"Clusters {}\".format(clusteroids)\n",
    "\n",
    "old_clusteroids = np.copy(clusteroids)\n",
    "clusteroids = []\n",
    "\n",
    "for clusteroid in old_clusteroids: # Iterete through to clusteroids\n",
    "    print (\"Cluster {}\".format(clusteroid))\n",
    "    min_distance = df_data[df_data[cluster_field] == clusteroid][cluster_distance_to_clusteroid_field].sum()\n",
    "    min_clusteroid = clusteroid\n",
    "    for element_i in df_data[df_data[cluster_field] == clusteroid].index.values: # iterate throught cluster\n",
    "        #print (\"--Element_i {}\".format(element_i))\n",
    "        sum_distance = 0\n",
    "        sum_clusteroid = clusteroid\n",
    "        for element_j in df_data[df_data[cluster_field] == clusteroid].index.values: # iterate throught cluster\n",
    "            #print (\"----Element_j {}\".format(element_j))\n",
    "            row1 = df_data.loc[element_i][columns_to_count_distance]\n",
    "            row2 = df_data.loc[element_j][columns_to_count_distance]\n",
    "            unique_columns = row1 == row2\n",
    "            lenght = len(columns_to_count_distance)\n",
    "            unique_columns_sum = unique_columns.sum()\n",
    "            distance = lenght - unique_columns_sum\n",
    "            sum_distance = sum_distance + distance\n",
    "            #print sum_distance\n",
    "        if sum_distance < min_distance:\n",
    "            min_distance = sum_distance\n",
    "            min_clusteroid = element_i\n",
    "            #log_value.append(\"new clusteroid {} min summ distance {}\".format(element_i,sum_distance))\n",
    "            print (\"----New clusteroid {} min summ distance {}\".format(element_i,sum_distance))\n",
    "    #clusteroids.append(min_clusteroid)\n",
    "    clusteroids.append(min_clusteroid)\n",
    "    #if min_clusteroid != -1:\n",
    "        #print (\"Clusteroid updated {} by {}\".format(clusteroid,min_clusteroid))\n",
    "        #clusteroids.append(min_clusteroid)\n",
    "        #df_data = df_data[df_data['BDate'].dt.year == 2016]\n",
    "        #clusteroids = np.append(clusteroids, df_data[df_data[clusteroid_id_field] == min_clusteroid][\"id_org\"].index.values[0])\n",
    "        #print (\"Clusteroid {}\".format(clusteroid))\n",
    "        #print (\"element_i {} element_j {}\".format(element_i,element_j))\n",
    "\n",
    "#clusteroids = np.copy(old_clusteroids)\n",
    "print \"Old Clusters {}\".format(old_clusteroids)\n",
    "print \"Clusters {}\".format(clusteroids)\n",
    "print \"---------\"\n",
    "print \"\""
   ]
  },
  {
   "cell_type": "code",
   "execution_count": 87,
   "metadata": {
    "collapsed": true
   },
   "outputs": [],
   "source": [
    "# Pere assign clusters\n",
    "\n",
    "# Todo: Add converging, isChanged\n",
    "\n",
    "for point in df_data.index.values: # Iterete through data to clusterise\n",
    "    min_distance = len(columns_to_count_distance)\n",
    "    min_clusteroid = -1\n",
    "    for clusteroid in clusteroids: # iterate throught clusters\n",
    "        row1 = df_data.loc[point][columns_to_count_distance]\n",
    "        row2 = df_data.loc[clusteroid][columns_to_count_distance]\n",
    "        unique_columns = row1 == row2\n",
    "        lenght = len(columns_to_count_distance)\n",
    "        unique_columns_sum = unique_columns.sum()\n",
    "        distance = lenght - unique_columns_sum\n",
    "        if distance < min_distance:\n",
    "            min_distance = distance\n",
    "            min_clusteroid = clusteroid #df_data.loc[clusteroid][clusteroid_id_field].index.values\n",
    "            #log_value.append(\"new min distance {} clusteroid {}\".format(min_distance,min_clusteroid))\n",
    "    df_data.set_value(point,cluster_field,min_clusteroid)\n",
    "    df_data.set_value(point,cluster_distance_to_clusteroid_field,min_distance)\n",
    "    print (\"Point {} assignbed to {} with distance {}\".format(point, min_clusteroid, min_distance))\n",
    "\n",
    "#log_value"
   ]
  },
  {
   "cell_type": "code",
   "execution_count": 31,
   "metadata": {
    "collapsed": false
   },
   "outputs": [
    {
     "data": {
      "text/plain": [
       "array([197, 61, 57, 12, 103, 181, 38, 155, 55, 132], dtype=object)"
      ]
     },
     "execution_count": 31,
     "metadata": {},
     "output_type": "execute_result"
    }
   ],
   "source": [
    "#df_data.sort(cluster_field, ascending=True)\n",
    "#df.sort('Bytes', ascending=False)\n",
    "df_data[cluster_field].unique()"
   ]
  },
  {
   "cell_type": "code",
   "execution_count": 32,
   "metadata": {
    "collapsed": false
   },
   "outputs": [
    {
     "data": {
      "text/plain": [
       "array([181,  61, 103, 155,  55,  38,  57, 132, 197,  12])"
      ]
     },
     "execution_count": 32,
     "metadata": {},
     "output_type": "execute_result"
    }
   ],
   "source": [
    "old_clusteroids"
   ]
  },
  {
   "cell_type": "code",
   "execution_count": 80,
   "metadata": {
    "collapsed": false,
    "scrolled": true
   },
   "outputs": [
    {
     "data": {
      "text/plain": [
       "[61, 22, 27, 149, 167, 158, 116, 154, 53, 183]"
      ]
     },
     "execution_count": 80,
     "metadata": {},
     "output_type": "execute_result"
    }
   ],
   "source": [
    "clusteroids"
   ]
  },
  {
   "cell_type": "code",
   "execution_count": 55,
   "metadata": {
    "collapsed": false
   },
   "outputs": [
    {
     "data": {
      "text/plain": [
       "787"
      ]
     },
     "execution_count": 55,
     "metadata": {},
     "output_type": "execute_result"
    }
   ],
   "source": [
    "clusteroid = \"DE7EBBBD-A930-4189-A9DD-E04BA04466FF\"\n",
    "# df_data[df_data[cluster_field] == clusteroid].index\n",
    "min_clusteroid = \"9EF648A2-363B-4D85-AF81-3EC1423EF8C6\"\n",
    "df_data[df_data[clusteroid_id_field] == min_clusteroid][\"id_org\"].index.values[0]"
   ]
  },
  {
   "cell_type": "code",
   "execution_count": 77,
   "metadata": {
    "collapsed": false
   },
   "outputs": [
    {
     "data": {
      "text/plain": [
       "29.0"
      ]
     },
     "execution_count": 77,
     "metadata": {},
     "output_type": "execute_result"
    }
   ],
   "source": [
    "df_data[df_data[cluster_field] == 18][cluster_distance_to_clusteroid_field].sum()"
   ]
  },
  {
   "cell_type": "code",
   "execution_count": 176,
   "metadata": {
    "collapsed": false
   },
   "outputs": [
    {
     "data": {
      "text/plain": [
       "array([], dtype=int64)"
      ]
     },
     "execution_count": 176,
     "metadata": {},
     "output_type": "execute_result"
    }
   ],
   "source": [
    "clusteroid = 214\n",
    "df_data[df_data[cluster_field] == clusteroid].index.values"
   ]
  },
  {
   "cell_type": "code",
   "execution_count": 78,
   "metadata": {
    "collapsed": false
   },
   "outputs": [
    {
     "data": {
      "text/plain": [
       "array([  3,  18,  42,  47,  61,  62,  84, 123, 127, 144, 181, 196])"
      ]
     },
     "execution_count": 78,
     "metadata": {},
     "output_type": "execute_result"
    }
   ],
   "source": [
    "df_data[df_data[cluster_field] == 18].index.values"
   ]
  },
  {
   "cell_type": "code",
   "execution_count": 73,
   "metadata": {
    "collapsed": false
   },
   "outputs": [],
   "source": [
    "df_data.to_csv(\"temp_1_clustering.csv\",index=True, encoding=\"utf-8\")"
   ]
  },
  {
   "cell_type": "code",
   "execution_count": 82,
   "metadata": {
    "collapsed": true
   },
   "outputs": [],
   "source": [
    "df_data.to_csv(\"temp_2_clustering.csv\",index=True, encoding=\"utf-8\")"
   ]
  },
  {
   "cell_type": "code",
   "execution_count": 88,
   "metadata": {
    "collapsed": true
   },
   "outputs": [],
   "source": [
    "df_data.to_csv(\"temp_last_clustering.csv\",index=True, encoding=\"utf-8\")"
   ]
  },
  {
   "cell_type": "code",
   "execution_count": null,
   "metadata": {
    "collapsed": true
   },
   "outputs": [],
   "source": []
  }
 ],
 "metadata": {
  "kernelspec": {
   "display_name": "Python 2",
   "language": "python",
   "name": "python2"
  },
  "language_info": {
   "codemirror_mode": {
    "name": "ipython",
    "version": 2
   },
   "file_extension": ".py",
   "mimetype": "text/x-python",
   "name": "python",
   "nbconvert_exporter": "python",
   "pygments_lexer": "ipython2",
   "version": "2.7.13"
  }
 },
 "nbformat": 4,
 "nbformat_minor": 2
}
